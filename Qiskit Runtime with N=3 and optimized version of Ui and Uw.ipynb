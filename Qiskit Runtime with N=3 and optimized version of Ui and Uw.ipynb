{
 "cells": [
  {
   "cell_type": "code",
   "execution_count": 25,
   "id": "f673dc1a",
   "metadata": {},
   "outputs": [],
   "source": [
    "from qiskit import QuantumCircuit\n",
    "from qiskit.quantum_info import partial_trace, Statevector\n",
    "from qiskit.circuit.library import ZGate, XGate\n",
    "from qiskit import execute, Aer\n",
    "from qiskit.compiler import transpile\n",
    "from qiskit.tools.visualization import plot_histogram\n",
    "from matplotlib import pyplot as plt\n",
    "from matplotlib import colors\n",
    "import numpy as np\n",
    "import gc\n",
    "import csv\n",
    "from pylab import *"
   ]
  },
  {
   "cell_type": "code",
   "execution_count": 2,
   "id": "217e0228",
   "metadata": {},
   "outputs": [],
   "source": [
    "def hsgs(N, vector):\n",
    "    \n",
    "    circuit = QuantumCircuit(N)\n",
    "    \n",
    "    phase = -1\n",
    "    target_phase = phase\n",
    "    \n",
    "    # get the number of ones in each state\n",
    "    vector_n_ones = get_number_of_ones(N)\n",
    "    \n",
    "    all_states_in_binary = get_all_states_in_binary(N)\n",
    "    \n",
    "    #print(vector)\n",
    "    \n",
    "    #print('::::::: case -|00...00>')\n",
    "    # case: phase on |0> state, i.e.: -|00...00>\n",
    "    if vector[0] == target_phase:\n",
    "        # add Z gate to all qubits, we will have the phase in state |0> plus a global phase equal to -1\n",
    "        circuit.z(range(N))\n",
    "        # then the target phase should be inverted (due to the global phase of -1)\n",
    "        target_phase *= phase\n",
    "        # update other affected states\n",
    "        for j in range(len(vector)):\n",
    "            vector[j] *= phase**vector_n_ones[j]\n",
    "        #print('updated because -|00...00>:', vector)\n",
    "        # factor out a -1\n",
    "        #vector *= phase\n",
    "        #print('factor out a -1:', vector)\n",
    "    \n",
    "    \n",
    "    #print('::::::: case only one |1>')\n",
    "    # case: states with only one |1> in any qubit\n",
    "    indices_with_one_1 = np.where(vector_n_ones == 1)[0]\n",
    "    for j in indices_with_one_1:\n",
    "        if vector[j] == target_phase:  # need a phase, then add a Z gate\n",
    "            #print(all_states_in_binary[j])\n",
    "            #qubit = np.where(np.flip(all_states_in_binary[j]) == 1)[0]\n",
    "            qubit = np.where(all_states_in_binary[j] == 1)[0]\n",
    "            #print('qubit =', qubit)\n",
    "            circuit.z(N-1-qubit) # inverse order due to Qiskit order: |q1q0>\n",
    "            # update other affected states\n",
    "            update_other_phases(vector, all_states_in_binary, qubit, j, phase)\n",
    "            #print(vector)\n",
    "            \n",
    "    \n",
    "    #print('::::::: case p = 2, ..., N')\n",
    "    # case: p = 2, ..., N\n",
    "    for p in range(2, N+1):\n",
    "        #print('p =',p)\n",
    "        multiConrolledZ = ZGate().control(num_ctrl_qubits=p-1)\n",
    "        indices_with_p_1s = np.where(vector_n_ones == p)[0]\n",
    "        for j in indices_with_p_1s:\n",
    "            if vector[j] == target_phase:  # need a phase, then add a C^pZ gate\n",
    "                #print(all_states_in_binary[j])\n",
    "                qubits = np.where(all_states_in_binary[j] == 1)[0]\n",
    "                #print('qubits =', qubits)\n",
    "                # inverse order due to Qiskit order: |q1q0>\n",
    "                qubits_inverted = np.where(np.flip(all_states_in_binary[j]) == 1)[0]\n",
    "                circuit.append(multiConrolledZ, list(qubits_inverted))\n",
    "                # update other affected states\n",
    "                update_other_phases(vector, all_states_in_binary, qubits, j, phase)\n",
    "                #print(vector)\n",
    "    \n",
    "    return circuit"
   ]
  },
  {
   "cell_type": "code",
   "execution_count": 3,
   "id": "dd2d4be2",
   "metadata": {},
   "outputs": [],
   "source": [
    "def get_binary_vector(N, k):\n",
    "    convert_phases = lambda j: (-1)**j\n",
    "    bitstring_array = np.array(list(format(k, '0'+str(2**N)+'b')), dtype=int)\n",
    "    vfunc = np.vectorize(convert_phases)\n",
    "    return vfunc(bitstring_array)\n",
    "\n",
    "def get_number_of_ones(N):\n",
    "    return np.array([n.bit_count() for n in range(2**N)])\n",
    "\n",
    "def get_all_states_in_binary(N):\n",
    "    return np.array([np.array(list(format(n, '0'+str(N)+'b')), dtype=int) for n in range(2**N)])\n",
    "\n",
    "def update_other_phases(vector, all_states_in_binary, affected_qubits, j, phase):\n",
    "    #print('affected_qubits =', affected_qubits)\n",
    "    for i in range(j, len(vector)):\n",
    "        #print('all_states_in_binary[',i,'] =', all_states_in_binary[i])\n",
    "        #print('np.where(all_states_in_binary[',i,']==1)[0] =', np.where(all_states_in_binary[i]==1)[0])\n",
    "        if all([elem in np.where(all_states_in_binary[i] == 1)[0] for elem in affected_qubits]):\n",
    "            #print('entro a cambiar el vector')\n",
    "            vector[i] *= phase\n",
    "            #print(vector)"
   ]
  },
  {
   "cell_type": "code",
   "execution_count": 4,
   "id": "ac23f3c6",
   "metadata": {},
   "outputs": [],
   "source": [
    "def U_i(N, ki, circuit):\n",
    "    \n",
    "    # create equal superposition\n",
    "    circuit.h(range(N))\n",
    "    \n",
    "    # get vector i given the value ki\n",
    "    vector_i = get_binary_vector(N, ki)\n",
    "    \n",
    "    # execute hsgs\n",
    "    circuit.compose(hsgs(N, vector_i), inplace=True)\n",
    "\n",
    "def U_w(N, kw, circuit):\n",
    "    \n",
    "    # get vector w given the value kw\n",
    "    vector_w = get_binary_vector(N, kw)\n",
    "    \n",
    "    # execute hsgs\n",
    "    circuit.compose(hsgs(N, vector_w), inplace=True)\n",
    "    \n",
    "    # apply Hadamards\n",
    "    circuit.h(range(N))\n",
    "    \n",
    "    # apply NOTs\n",
    "    circuit.x(range(N))"
   ]
  },
  {
   "cell_type": "code",
   "execution_count": 5,
   "id": "17eb7412",
   "metadata": {},
   "outputs": [],
   "source": [
    "def perceptron_optimized(N, ki, kw, draw=False):\n",
    "    \n",
    "    # create circuit, N qubits + ancilla\n",
    "    circuit = QuantumCircuit(N + 1, 1)\n",
    "    \n",
    "    # apply U_i\n",
    "    U_i(N, ki, circuit)\n",
    "    \n",
    "    # apply U_w\n",
    "    U_w(N, kw, circuit)\n",
    "    \n",
    "    # apply C^N X\n",
    "    circuit.mcx(control_qubits=[i for i in range(N)], target_qubit=N)\n",
    "    \n",
    "    # measure the ancilla qubit\n",
    "    circuit.measure(N, 0)\n",
    "    \n",
    "    # draw circuit\n",
    "    if draw == True:\n",
    "        display(circuit.draw('mpl'))\n",
    "    \n",
    "    return circuit"
   ]
  },
  {
   "cell_type": "code",
   "execution_count": 8,
   "id": "8edacc82",
   "metadata": {},
   "outputs": [],
   "source": [
    "#!pip install qiskit-ibm-runtime"
   ]
  },
  {
   "cell_type": "code",
   "execution_count": 9,
   "id": "febba0ca",
   "metadata": {},
   "outputs": [],
   "source": [
    "from qiskit_ibm_runtime import QiskitRuntimeService, Session, Options, Sampler, Estimator"
   ]
  },
  {
   "cell_type": "code",
   "execution_count": 15,
   "id": "adabe7ea",
   "metadata": {},
   "outputs": [],
   "source": [
    "#QiskitRuntimeService.save_account(channel='ibm_quantum', token='my_token', overwrite=True)"
   ]
  },
  {
   "cell_type": "code",
   "execution_count": 16,
   "id": "632e4cbf",
   "metadata": {},
   "outputs": [],
   "source": [
    "service = QiskitRuntimeService(channel='ibm_quantum')"
   ]
  },
  {
   "cell_type": "code",
   "execution_count": 17,
   "id": "bdfaa7d0",
   "metadata": {},
   "outputs": [
    {
     "data": {
      "text/plain": [
       "[<IBMBackend('ibmq_guadalupe')>,\n",
       " <IBMBackend('ibmq_qasm_simulator')>,\n",
       " <IBMBackend('ibm_nairobi')>,\n",
       " <IBMBackend('ibm_oslo')>,\n",
       " <IBMBackend('ibmq_lima')>,\n",
       " <IBMBackend('ibmq_belem')>,\n",
       " <IBMBackend('ibmq_quito')>,\n",
       " <IBMBackend('simulator_statevector')>,\n",
       " <IBMBackend('simulator_mps')>,\n",
       " <IBMBackend('simulator_extended_stabilizer')>,\n",
       " <IBMBackend('simulator_stabilizer')>,\n",
       " <IBMBackend('ibmq_manila')>]"
      ]
     },
     "execution_count": 17,
     "metadata": {},
     "output_type": "execute_result"
    }
   ],
   "source": [
    "service.backends()"
   ]
  },
  {
   "cell_type": "code",
   "execution_count": 18,
   "id": "8c244700",
   "metadata": {},
   "outputs": [
    {
     "name": "stdout",
     "output_type": "stream",
     "text": [
      "<IBMBackend('ibmq_qasm_simulator')>\n"
     ]
    }
   ],
   "source": [
    "backend = service.backends(simulator=True)[0]\n",
    "print(backend)"
   ]
  },
  {
   "cell_type": "code",
   "execution_count": 19,
   "id": "fcfd071c",
   "metadata": {},
   "outputs": [
    {
     "data": {
      "text/plain": [
       "<IBMBackend('ibmq_belem')>"
      ]
     },
     "execution_count": 19,
     "metadata": {},
     "output_type": "execute_result"
    }
   ],
   "source": [
    "backend_belem = service.backends(name='ibmq_belem')[0]\n",
    "backend_belem"
   ]
  },
  {
   "cell_type": "code",
   "execution_count": 20,
   "id": "bbd81ba5",
   "metadata": {},
   "outputs": [],
   "source": [
    "from qiskit.providers.fake_provider import FakeBelemV2\n",
    "from qiskit_aer.noise import NoiseModel\n",
    "\n",
    "# Import FakeBackend\n",
    "fake_backend = FakeBelemV2()\n",
    "noise_model = NoiseModel.from_backend(fake_backend)\n",
    "\n",
    "# Set options to include noise_model\n",
    "options = Options(simulator={\n",
    "    \"noise_model\": noise_model\n",
    "}, resilience_level=0)"
   ]
  },
  {
   "cell_type": "code",
   "execution_count": 23,
   "id": "de5912b2",
   "metadata": {},
   "outputs": [
    {
     "name": "stdout",
     "output_type": "stream",
     "text": [
      "working with kw = 255/256CPU times: total: 12min 18s\n",
      "Wall time: 30min 39s\n"
     ]
    }
   ],
   "source": [
    "%%time\n",
    "\n",
    "# Calculate for every value for ki and kw\n",
    "\n",
    "N = 3\n",
    "\n",
    "jobs_executed = {}\n",
    "\n",
    "for kw in range(2**(2**N)):\n",
    "#for kw in range(234, 2**(2**N)):\n",
    "    \n",
    "    print(\"\\rworking with kw = {}/{}\".format(kw, 2**(2**N)), end=\"\")\n",
    "    \n",
    "    circuits_sim = []\n",
    "    \n",
    "    for ki in range(2**(2**N)):\n",
    "        perceptron_circuit = perceptron_optimized(N, ki, kw)\n",
    "        circuits_sim.append(transpile(perceptron_circuit, backend_belem))\n",
    "    \n",
    "    with Session(service=service, backend=backend):\n",
    "        sampler = Sampler(options=options)\n",
    "        job = sampler.run(circuits=circuits_sim)\n",
    "        result = job.result()\n",
    "        \n",
    "    jobs_executed[kw] = job.job_id()\n",
    "    \n",
    "    with open(\"res_optimized/results_fake_belem_optimized_Ui_Uw_N3_kw_{}.txt\".format(kw), \"w\") as file:\n",
    "        file.write(str(result.quasi_dists))\n",
    "    \n",
    "    del circuits_sim\n",
    "    del sampler\n",
    "    del job\n",
    "    del result\n",
    "    gc.collect()\n",
    "    \n",
    "\n",
    "with open(\"res_optimized/results_fake_belem_optimized_Ui_Uw_N3_jobs.txt\", \"w\") as file:\n",
    "    file.write(str(jobs_executed))"
   ]
  },
  {
   "cell_type": "code",
   "execution_count": 26,
   "id": "a0c675b3",
   "metadata": {},
   "outputs": [
    {
     "name": "stdout",
     "output_type": "stream",
     "text": [
      "reading for kw = 255/256CPU times: total: 30.7 s\n",
      "Wall time: 37.6 s\n"
     ]
    }
   ],
   "source": [
    "%%time\n",
    "# load results from generated files and save them in matrix form in a new file\n",
    "\n",
    "N = 3\n",
    "\n",
    "with open(\"res_optimized/results_fake_belem_optimized_Ui_Uw_N3_all.txt\", \"w\", newline=\"\") as f:\n",
    "    \n",
    "    writer = csv.writer(f, delimiter=' ')\n",
    "    \n",
    "    for kw in range(2**(2**N)):\n",
    "\n",
    "        print(\"\\rreading for kw = {}/{}\".format(kw, 2**(2**N)), end=\"\")\n",
    "\n",
    "        with open(\"res_optimized/results_fake_belem_optimized_Ui_Uw_N3_kw_{}.txt\".format(kw), \"r\") as file:\n",
    "            results_for_kw = eval(file.readline())\n",
    "\n",
    "        results_for_state1 = []\n",
    "        for ki in range(2**(2**N)):\n",
    "            results_for_state1.append(results_for_kw[ki][1])\n",
    "        \n",
    "        writer.writerow(results_for_state1)\n",
    "\n",
    "        del results_for_kw\n",
    "        del results_for_state1\n",
    "        gc.collect()\n",
    "    "
   ]
  },
  {
   "cell_type": "code",
   "execution_count": 30,
   "id": "2f4507f3",
   "metadata": {},
   "outputs": [
    {
     "name": "stdout",
     "output_type": "stream",
     "text": [
      "calculating for kw = 255/256\n",
      "CPU times: total: 2.23 s\n",
      "Wall time: 4.26 s\n"
     ]
    },
    {
     "data": {
      "text/plain": [
       "0.10565004348754882"
      ]
     },
     "execution_count": 30,
     "metadata": {},
     "output_type": "execute_result"
    }
   ],
   "source": [
    "%%time\n",
    "\n",
    "# calculate average discrepancy\n",
    "\n",
    "N = 3\n",
    "\n",
    "D = 0\n",
    "\n",
    "for kw in range(2**(2**N)):\n",
    "    \n",
    "    print(\"\\rcalculating for kw = {}/{}\".format(kw, 2**(2**N)), end=\"\")\n",
    "\n",
    "    with open(\"res_optimized/results_fake_belem_optimized_Ui_Uw_N3_kw_{}.txt\".format(kw), \"r\") as file:\n",
    "        results_for_kw_opt = eval(file.readline())\n",
    "    \n",
    "    results_for_state1_opt = []\n",
    "    for ki in range(2**(2**N)):\n",
    "        results_for_state1_opt.append(results_for_kw_opt[ki][1])\n",
    "    \n",
    "    with open(\"res_exact/results_fake_belem_exact_Ui_Uw_N3_kw_{}.txt\".format(kw), \"r\") as file:\n",
    "        results_for_kw_exact = eval(file.readline())\n",
    "    \n",
    "    results_for_state1_exact = []\n",
    "    for ki in range(2**(2**N)):\n",
    "        results_for_state1_exact.append(results_for_kw_exact[ki][1])\n",
    "    \n",
    "    D += np.sum(np.absolute(np.subtract(results_for_state1_opt, results_for_state1_exact))) / (2**(2**(N+1)))\n",
    "    \n",
    "print()\n",
    "\n",
    "D"
   ]
  },
  {
   "cell_type": "code",
   "execution_count": null,
   "id": "34bf90df",
   "metadata": {},
   "outputs": [],
   "source": []
  }
 ],
 "metadata": {
  "kernelspec": {
   "display_name": "Python 3 (ipykernel)",
   "language": "python",
   "name": "python3"
  },
  "language_info": {
   "codemirror_mode": {
    "name": "ipython",
    "version": 3
   },
   "file_extension": ".py",
   "mimetype": "text/x-python",
   "name": "python",
   "nbconvert_exporter": "python",
   "pygments_lexer": "ipython3",
   "version": "3.10.8"
  }
 },
 "nbformat": 4,
 "nbformat_minor": 5
}
