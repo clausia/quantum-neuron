{
 "cells": [
  {
   "cell_type": "code",
   "execution_count": 1,
   "id": "86c02026",
   "metadata": {},
   "outputs": [],
   "source": [
    "from qiskit import QuantumCircuit\n",
    "from qiskit.quantum_info import partial_trace, Statevector\n",
    "from qiskit.visualization import array_to_latex\n",
    "from qiskit.circuit.library import MCMT\n",
    "from qiskit.circuit.library import ZGate, XGate\n",
    "import numpy as np"
   ]
  },
  {
   "cell_type": "code",
   "execution_count": 2,
   "id": "0b4500c3",
   "metadata": {},
   "outputs": [],
   "source": [
    "N = 4\n",
    "j = 6\n",
    "\n",
    "\n",
    "def createSFblock(N, j):\n",
    "    \n",
    "    circuit = QuantumCircuit(N)\n",
    "    \n",
    "    state_decimal = format(j, '0'+str(N)+'b')[::-1] # inverse order due to Qiskit order: |q1q0>\n",
    "    \n",
    "    for qubit in range(N):\n",
    "        if state_decimal[qubit] == '0':\n",
    "            circuit.x(qubit)\n",
    "    \n",
    "    multiConrolledZ = ZGate().control(num_ctrl_qubits=N-1)\n",
    "    circuit.append(multiConrolledZ, range(N))\n",
    "    \n",
    "    for qubit in range(N):\n",
    "        if state_decimal[qubit] == '0':\n",
    "            circuit.x(qubit)\n",
    "    \n",
    "    return circuit\n",
    "\n",
    "\n",
    "def initializeState(N, j):\n",
    "    \n",
    "    circuit = QuantumCircuit(N)\n",
    "    \n",
    "    state_decimal = format(j, '0'+str(N)+'b')\n",
    "    print(state_decimal)\n",
    "    \n",
    "    for qubit in range(N):\n",
    "        if state_decimal[qubit] == '1':\n",
    "            circuit.x(qubit)\n",
    "    circuit.barrier()\n",
    "    \n",
    "    return circuit"
   ]
  },
  {
   "cell_type": "code",
   "execution_count": 4,
   "id": "16fb9588",
   "metadata": {},
   "outputs": [
    {
     "name": "stdout",
     "output_type": "stream",
     "text": [
      "0110\n"
     ]
    },
    {
     "data": {
      "image/png": "[encoded data removed]",
      "text/plain": [
       "<Figure size 538.33x367.889 with 1 Axes>"
      ]
     },
     "metadata": {},
     "output_type": "display_data"
    },
    {
     "data": {
      "text/latex": [
       "$$- |0110\\rangle$$"
      ],
      "text/plain": [
       "<IPython.core.display.Latex object>"
      ]
     },
     "metadata": {},
     "output_type": "display_data"
    }
   ],
   "source": [
    "sf_circuit_SF_block = initializeState(N, j)\n",
    "sf_circuit_SF_block = sf_circuit_SF_block.compose(createSFblock(N, j))\n",
    "\n",
    "display(sf_circuit_SF_block.draw('mpl'))\n",
    "\n",
    "psi = Statevector(sf_circuit_SF_block)\n",
    "display(psi.draw('latex'))"
   ]
  },
  {
   "cell_type": "code",
   "execution_count": 5,
   "id": "7cccf8c4",
   "metadata": {},
   "outputs": [],
   "source": [
    "def createCNnotBlock(N, j):\n",
    "    \n",
    "    circuit = QuantumCircuit(N+1)\n",
    "    \n",
    "    state_decimal = format(j, '0'+str(N)+'b')\n",
    "    \n",
    "    for qubit in range(N):\n",
    "        if state_decimal[qubit] == '0':\n",
    "            circuit.x(qubit)\n",
    "    \n",
    "    circuit.mcx(control_qubits=[i for i in range(N)], target_qubit=N)\n",
    "    \n",
    "    for qubit in range(N):\n",
    "        if state_decimal[qubit] == '0':\n",
    "            circuit.x(qubit)\n",
    "    \n",
    "    return circuit\n",
    "\n",
    "def initializeStateAndAncilla(N, j):\n",
    "    \n",
    "    circuit = QuantumCircuit(N+1)\n",
    "    \n",
    "    state_decimal = format(j, '0'+str(N)+'b')\n",
    "    print(state_decimal)\n",
    "    \n",
    "    for qubit in range(N):\n",
    "        if state_decimal[qubit] == '1':\n",
    "            circuit.x(qubit)\n",
    "            \n",
    "    circuit.x(N)\n",
    "    circuit.h(N)\n",
    "    circuit.barrier()\n",
    "    \n",
    "    return circuit"
   ]
  },
  {
   "cell_type": "code",
   "execution_count": 6,
   "id": "5f3a87bc",
   "metadata": {},
   "outputs": [
    {
     "name": "stdout",
     "output_type": "stream",
     "text": [
      "0110\n"
     ]
    },
    {
     "data": {
      "image/png": "[encoded data removed]",
      "text/plain": [
       "<Figure size 621.941x451.5 with 1 Axes>"
      ]
     },
     "metadata": {},
     "output_type": "display_data"
    },
    {
     "data": {
      "text/latex": [
       "$$- \\frac{\\sqrt{2}}{2} |00110\\rangle+\\frac{\\sqrt{2}}{2} |10110\\rangle$$"
      ],
      "text/plain": [
       "<IPython.core.display.Latex object>"
      ]
     },
     "metadata": {},
     "output_type": "display_data"
    },
    {
     "data": {
      "text/latex": [
       "$$ |0110\\rangle$$"
      ],
      "text/plain": [
       "<IPython.core.display.Latex object>"
      ]
     },
     "metadata": {},
     "output_type": "display_data"
    },
    {
     "data": {
      "text/latex": [
       "$$- \\frac{\\sqrt{2}}{2} |0\\rangle+\\frac{\\sqrt{2}}{2} |1\\rangle$$"
      ],
      "text/plain": [
       "<IPython.core.display.Latex object>"
      ]
     },
     "metadata": {},
     "output_type": "display_data"
    }
   ],
   "source": [
    "sf_circuit_cnot_block = initializeStateAndAncilla(N, j)\n",
    "sf_circuit_cnot_block = sf_circuit_cnot_block.compose(createCNnotBlock(N, j))\n",
    "\n",
    "display(sf_circuit_cnot_block.draw('mpl'))\n",
    "\n",
    "full_state = Statevector(sf_circuit_cnot_block)\n",
    "\n",
    "display(full_state.draw('latex'))\n",
    "\n",
    "\n",
    "partial_density_matrix = partial_trace(full_state, N)\n",
    "partial_statevector = partial_density_matrix.to_statevector()\n",
    "\n",
    "display(partial_statevector.draw('latex'))\n",
    "\n",
    "\n",
    "partial_density_matrix_ancilla = partial_trace(full_state, range(N))\n",
    "partial_statevector_ancilla = partial_density_matrix_ancilla.to_statevector()\n",
    "\n",
    "display(partial_statevector_ancilla.draw('latex'))"
   ]
  },
  {
   "cell_type": "code",
   "execution_count": 7,
   "id": "88a76336",
   "metadata": {},
   "outputs": [],
   "source": [
    "def createCNnotBlockNoXs(N, j):\n",
    "    \n",
    "    circuit = QuantumCircuit(N+1)\n",
    "    \n",
    "    state_decimal = format(j, '0'+str(N)+'b')\n",
    "    \n",
    "    multiConrolledX = XGate().control(num_ctrl_qubits=N, ctrl_state=state_decimal)\n",
    "    circuit.append(multiConrolledX, range(N+1))\n",
    "\n",
    "    return circuit"
   ]
  },
  {
   "cell_type": "code",
   "execution_count": 8,
   "id": "77d2d2b8",
   "metadata": {},
   "outputs": [
    {
     "name": "stdout",
     "output_type": "stream",
     "text": [
      "0110\n"
     ]
    },
    {
     "data": {
      "image/png": "[encoded data removed]",
      "text/plain": [
       "<Figure size 454.719x451.5 with 1 Axes>"
      ]
     },
     "metadata": {},
     "output_type": "display_data"
    },
    {
     "data": {
      "text/latex": [
       "$$- \\frac{\\sqrt{2}}{2} |00110\\rangle+\\frac{\\sqrt{2}}{2} |10110\\rangle$$"
      ],
      "text/plain": [
       "<IPython.core.display.Latex object>"
      ]
     },
     "metadata": {},
     "output_type": "display_data"
    },
    {
     "data": {
      "text/latex": [
       "$$ |0110\\rangle$$"
      ],
      "text/plain": [
       "<IPython.core.display.Latex object>"
      ]
     },
     "metadata": {},
     "output_type": "display_data"
    },
    {
     "data": {
      "text/latex": [
       "$$- \\frac{\\sqrt{2}}{2} |0\\rangle+\\frac{\\sqrt{2}}{2} |1\\rangle$$"
      ],
      "text/plain": [
       "<IPython.core.display.Latex object>"
      ]
     },
     "metadata": {},
     "output_type": "display_data"
    }
   ],
   "source": [
    "sf_circuit_cnot_block_noxs = initializeStateAndAncilla(N, j)\n",
    "sf_circuit_cnot_block_noxs = sf_circuit_cnot_block_noxs.compose(createCNnotBlockNoXs(N, j))\n",
    "\n",
    "display(sf_circuit_cnot_block_noxs.draw('mpl'))\n",
    "\n",
    "full_state = Statevector(sf_circuit_cnot_block_noxs)\n",
    "\n",
    "display(full_state.draw('latex'))\n",
    "\n",
    "\n",
    "partial_density_matrix = partial_trace(full_state, N)\n",
    "partial_statevector = partial_density_matrix.to_statevector()\n",
    "\n",
    "display(partial_statevector.draw('latex'))\n",
    "\n",
    "\n",
    "partial_density_matrix_ancilla = partial_trace(full_state, range(N))\n",
    "partial_statevector_ancilla = partial_density_matrix_ancilla.to_statevector()\n",
    "\n",
    "display(partial_statevector_ancilla.draw('latex'))"
   ]
  },
  {
   "cell_type": "code",
   "execution_count": 9,
   "id": "52e2e96d",
   "metadata": {},
   "outputs": [
    {
     "data": {
      "text/plain": [
       "38"
      ]
     },
     "execution_count": 9,
     "metadata": {},
     "output_type": "execute_result"
    }
   ],
   "source": [
    "sf_circuit_SF_block.decompose(reps=1).depth()"
   ]
  },
  {
   "cell_type": "code",
   "execution_count": 10,
   "id": "476b7bb3",
   "metadata": {},
   "outputs": [],
   "source": [
    "#sf_circuit_SF_block.decompose(reps=1).draw('mpl')"
   ]
  },
  {
   "cell_type": "code",
   "execution_count": 11,
   "id": "779ea44c",
   "metadata": {},
   "outputs": [
    {
     "data": {
      "text/plain": [
       "84"
      ]
     },
     "execution_count": 11,
     "metadata": {},
     "output_type": "execute_result"
    }
   ],
   "source": [
    "sf_circuit_cnot_block.decompose(reps=3).depth()"
   ]
  },
  {
   "cell_type": "code",
   "execution_count": 12,
   "id": "314a373f",
   "metadata": {},
   "outputs": [],
   "source": [
    "#sf_circuit_cnot_block.decompose(reps=3).draw('mpl')"
   ]
  },
  {
   "cell_type": "code",
   "execution_count": 13,
   "id": "ed793e9d",
   "metadata": {},
   "outputs": [
    {
     "data": {
      "text/plain": [
       "84"
      ]
     },
     "execution_count": 13,
     "metadata": {},
     "output_type": "execute_result"
    }
   ],
   "source": [
    "sf_circuit_cnot_block_noxs.decompose(reps=5).depth()"
   ]
  },
  {
   "cell_type": "code",
   "execution_count": 14,
   "id": "fa38f4c9",
   "metadata": {},
   "outputs": [],
   "source": [
    "#sf_circuit_cnot_block_noxs.decompose(reps=5).draw('mpl')"
   ]
  },
  {
   "cell_type": "code",
   "execution_count": null,
   "id": "9fc72e6c",
   "metadata": {},
   "outputs": [],
   "source": []
  }
 ],
 "metadata": {
  "kernelspec": {
   "display_name": "Python 3 (ipykernel)",
   "language": "python",
   "name": "python3"
  },
  "language_info": {
   "codemirror_mode": {
    "name": "ipython",
    "version": 3
   },
   "file_extension": ".py",
   "mimetype": "text/x-python",
   "name": "python",
   "nbconvert_exporter": "python",
   "pygments_lexer": "ipython3",
   "version": "3.10.8"
  }
 },
 "nbformat": 4,
 "nbformat_minor": 5
}
