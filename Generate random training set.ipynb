{
 "cells": [
  {
   "cell_type": "markdown",
   "id": "b661d8c5",
   "metadata": {},
   "source": [
    "Generate the random training set of inputs with their respective labels, for this the target vector $w_t$ is used to determine the label, in this way 3050 random inputs are generated quickly."
   ]
  },
  {
   "cell_type": "code",
   "execution_count": 1,
   "id": "71b24132",
   "metadata": {},
   "outputs": [],
   "source": [
    "from qiskit import QuantumCircuit\n",
    "from qiskit.quantum_info import partial_trace, Statevector\n",
    "from qiskit.circuit.library import ZGate, XGate\n",
    "from qiskit import execute, Aer\n",
    "from random import shuffle\n",
    "import numpy as np\n",
    "import random"
   ]
  },
  {
   "cell_type": "code",
   "execution_count": 2,
   "id": "31668841",
   "metadata": {},
   "outputs": [],
   "source": [
    "def createSFblock(N, j):\n",
    "    \n",
    "    circuit = QuantumCircuit(N)\n",
    "    \n",
    "    state_decimal = format(j, '0'+str(N)+'b')[::-1] # inverse order due to Qiskit order: |q1q0>\n",
    "    \n",
    "    for qubit in range(N):\n",
    "        if state_decimal[qubit] == '0':\n",
    "            circuit.x(qubit)\n",
    "    \n",
    "    multiConrolledZ = ZGate().control(num_ctrl_qubits=N-1)\n",
    "    circuit.append(multiConrolledZ, range(N))\n",
    "    \n",
    "    for qubit in range(N):\n",
    "        if state_decimal[qubit] == '0':\n",
    "            circuit.x(qubit)\n",
    "    \n",
    "    return circuit\n"
   ]
  },
  {
   "cell_type": "code",
   "execution_count": 3,
   "id": "508d9354",
   "metadata": {},
   "outputs": [],
   "source": [
    "def U_i(N, ki, circuit):\n",
    "    \n",
    "    # create equal superposition\n",
    "    circuit.h(range(N))\n",
    "    \n",
    "    # apply SF blocks according to ki information\n",
    "    vector_i = format(ki, '0'+str(2**N)+'b')\n",
    "    for ij in range(len(vector_i)):\n",
    "        if vector_i[ij] == '1': # n_j = 1, equivalent of having -1 in vector i\n",
    "            circuit.compose(createSFblock(N, ij), inplace=True)  # the state i is the one that must have the phase of -1\n",
    "\n",
    "def U_w(N, kw, circuit):\n",
    "    \n",
    "    # apply SF blocks according to kw information\n",
    "    vector_w = format(kw, '0'+str(2**N)+'b')\n",
    "    for wj in range(len(vector_w)):\n",
    "        if vector_w[wj] == '1': # n_j = 1, equivalent of having -1 in vector w\n",
    "            circuit.compose(createSFblock(N, wj), inplace=True)  # the state w is the one that must have the phase of -1\n",
    "    \n",
    "    # apply Hadamards\n",
    "    circuit.h(range(N))\n",
    "    \n",
    "    # apply NOTs\n",
    "    circuit.x(range(N))"
   ]
  },
  {
   "cell_type": "code",
   "execution_count": 4,
   "id": "802705b0",
   "metadata": {},
   "outputs": [],
   "source": [
    "def perceptron_brute_force(N, ki, kw, draw=False):\n",
    "    \n",
    "    # create circuit, N qubits + ancilla\n",
    "    circuit = QuantumCircuit(N + 1, 1)\n",
    "    \n",
    "    # apply U_i\n",
    "    U_i(N, ki, circuit)\n",
    "    \n",
    "    # apply U_w\n",
    "    U_w(N, kw, circuit)\n",
    "    \n",
    "    # apply C^N X\n",
    "    circuit.mcx(control_qubits=[i for i in range(N)], target_qubit=N)\n",
    "    \n",
    "    # measure the ancilla qubit\n",
    "    circuit.measure(N, 0)\n",
    "    \n",
    "    # draw circuit\n",
    "    if draw == True:\n",
    "        display(circuit.draw('mpl'))\n",
    "    \n",
    "    return circuit"
   ]
  },
  {
   "cell_type": "code",
   "execution_count": 5,
   "id": "967c2017",
   "metadata": {},
   "outputs": [
    {
     "name": "stdout",
     "output_type": "stream",
     "text": [
      "count_positive = 50, count_negative = 3000\n",
      "CPU times: total: 1h 20min 4s\n",
      "Wall time: 1h 20min 20s\n"
     ]
    }
   ],
   "source": [
    "%%time\n",
    "\n",
    "# Randomly generate input data\n",
    "\n",
    "N = 4\n",
    "\n",
    "kw_t = 64909                                  # cross-shaped pattern\n",
    "\n",
    "data_positive = 50\n",
    "data_negative = 3000\n",
    "count_positive = 0\n",
    "count_negative = 0\n",
    "threshold = 0.5\n",
    "\n",
    "chosen_ki = []\n",
    "\n",
    "results = []                                  # vector of tuples\n",
    "\n",
    "need_more = True\n",
    "while need_more:\n",
    "    ki = random.randint(0, 2**(2**N))\n",
    "    vector_i = format(ki, '0'+str(2**N)+'b')\n",
    "    \n",
    "    if sum([int(i) for i in vector_i]) <= int(len(vector_i)/2): continue # not take the negative pattern (inverted images)\n",
    "        \n",
    "    if ki != kw_t and ki not in chosen_ki:           # not choose the target pattern and chose different inputs\n",
    "        perceptron_circuit = perceptron_brute_force(N, ki, kw_t)\n",
    "        perceptron_circuit.remove_final_measurements()\n",
    "        full_state = Statevector(perceptron_circuit)\n",
    "        partial_density_matrix_ancilla = partial_trace(full_state, range(N))\n",
    "        probability = abs(partial_density_matrix_ancilla.data[1][1])\n",
    "        if probability > threshold:\n",
    "            if count_positive < data_positive:\n",
    "                count_positive += 1\n",
    "                results.append((ki, 1))\n",
    "            else:\n",
    "                continue\n",
    "        else:\n",
    "            if count_negative < data_negative:\n",
    "                count_negative += 1\n",
    "                results.append((ki, -1))\n",
    "            else:\n",
    "                continue\n",
    "        \n",
    "        chosen_ki.append(ki)\n",
    "        \n",
    "        if count_positive == data_positive and count_negative == data_negative:\n",
    "            need_more = False\n",
    "\n",
    "        print(\"\\rcount_positive = {}, count_negative = {}\".format(count_positive, count_negative), end=\"\")\n",
    "        \n",
    "print()"
   ]
  },
  {
   "cell_type": "code",
   "execution_count": 6,
   "id": "13ff2228",
   "metadata": {},
   "outputs": [],
   "source": [
    "# shuffle the training set because most of the positive elements were left at the end\n",
    "shuffle(results)"
   ]
  },
  {
   "cell_type": "code",
   "execution_count": 7,
   "id": "5fb3bd84",
   "metadata": {},
   "outputs": [],
   "source": [
    "# save data in order to be able to reuse it\n",
    "with open(\"training_set_3050.txt\", \"w\") as file:\n",
    "    file.write(str(results))"
   ]
  },
  {
   "cell_type": "code",
   "execution_count": 8,
   "id": "6c298eac",
   "metadata": {},
   "outputs": [],
   "source": [
    "#with open(\"training_set_3050.txt\", \"r\") as file:\n",
    "#    results = eval(file.readline())"
   ]
  },
  {
   "cell_type": "code",
   "execution_count": null,
   "id": "5614972b",
   "metadata": {},
   "outputs": [],
   "source": []
  }
 ],
 "metadata": {
  "kernelspec": {
   "display_name": "Python 3 (ipykernel)",
   "language": "python",
   "name": "python3"
  },
  "language_info": {
   "codemirror_mode": {
    "name": "ipython",
    "version": 3
   },
   "file_extension": ".py",
   "mimetype": "text/x-python",
   "name": "python",
   "nbconvert_exporter": "python",
   "pygments_lexer": "ipython3",
   "version": "3.10.8"
  }
 },
 "nbformat": 4,
 "nbformat_minor": 5
}
