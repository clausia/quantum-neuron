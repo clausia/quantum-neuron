{
 "cells": [
  {
   "cell_type": "code",
   "execution_count": 1,
   "id": "c123a418",
   "metadata": {},
   "outputs": [],
   "source": [
    "from qiskit import QuantumCircuit\n",
    "from qiskit.quantum_info import partial_trace, Statevector\n",
    "from qiskit.circuit.library import ZGate, XGate\n",
    "from qiskit import execute, Aer\n",
    "from qiskit.compiler import transpile\n",
    "from qiskit.tools.visualization import plot_histogram\n",
    "from matplotlib import pyplot as plt\n",
    "from matplotlib import colors\n",
    "import numpy as np\n",
    "from pylab import *"
   ]
  },
  {
   "cell_type": "code",
   "execution_count": 2,
   "id": "1642f970",
   "metadata": {},
   "outputs": [],
   "source": [
    "def hsgs(N, vector):\n",
    "    \n",
    "    circuit = QuantumCircuit(N)\n",
    "    \n",
    "    phase = -1\n",
    "    target_phase = phase\n",
    "    \n",
    "    # get the number of ones in each state\n",
    "    vector_n_ones = get_number_of_ones(N)\n",
    "    \n",
    "    all_states_in_binary = get_all_states_in_binary(N)\n",
    "    \n",
    "    #print(vector)\n",
    "    \n",
    "    #print('::::::: case -|00...00>')\n",
    "    # case: phase on |0> state, i.e.: -|00...00>\n",
    "    if vector[0] == target_phase:\n",
    "        # add Z gate to all qubits, we will have the phase in state |0> plus a global phase equal to -1\n",
    "        circuit.z(range(N))\n",
    "        # then the target phase should be inverted (due to the global phase of -1)\n",
    "        target_phase *= phase\n",
    "        # update other affected states\n",
    "        for j in range(len(vector)):\n",
    "            vector[j] *= phase**vector_n_ones[j]\n",
    "        #print('updated because -|00...00>:', vector)\n",
    "        # factor out a -1\n",
    "        #vector *= phase\n",
    "        #print('factor out a -1:', vector)\n",
    "    \n",
    "    \n",
    "    #print('::::::: case only one |1>')\n",
    "    # case: states with only one |1> in any qubit\n",
    "    indices_with_one_1 = np.where(vector_n_ones == 1)[0]\n",
    "    for j in indices_with_one_1:\n",
    "        if vector[j] == target_phase:  # need a phase, then add a Z gate\n",
    "            #print(all_states_in_binary[j])\n",
    "            #qubit = np.where(np.flip(all_states_in_binary[j]) == 1)[0]\n",
    "            qubit = np.where(all_states_in_binary[j] == 1)[0]\n",
    "            #print('qubit =', qubit)\n",
    "            circuit.z(N-1-qubit) # inverse order due to Qiskit order: |q1q0>\n",
    "            # update other affected states\n",
    "            update_other_phases(vector, all_states_in_binary, qubit, j, phase)\n",
    "            #print(vector)\n",
    "            \n",
    "    \n",
    "    #print('::::::: case p = 2, ..., N')\n",
    "    # case: p = 2, ..., N\n",
    "    for p in range(2, N+1):\n",
    "        #print('p =',p)\n",
    "        multiConrolledZ = ZGate().control(num_ctrl_qubits=p-1)\n",
    "        indices_with_p_1s = np.where(vector_n_ones == p)[0]\n",
    "        for j in indices_with_p_1s:\n",
    "            if vector[j] == target_phase:  # need a phase, then add a C^pZ gate\n",
    "                #print(all_states_in_binary[j])\n",
    "                qubits = np.where(all_states_in_binary[j] == 1)[0]\n",
    "                #print('qubits =', qubits)\n",
    "                # inverse order due to Qiskit order: |q1q0>\n",
    "                qubits_inverted = np.where(np.flip(all_states_in_binary[j]) == 1)[0]\n",
    "                circuit.append(multiConrolledZ, list(qubits_inverted))\n",
    "                # update other affected states\n",
    "                update_other_phases(vector, all_states_in_binary, qubits, j, phase)\n",
    "                #print(vector)\n",
    "    \n",
    "    return circuit"
   ]
  },
  {
   "cell_type": "code",
   "execution_count": 3,
   "id": "5a38c79c",
   "metadata": {},
   "outputs": [],
   "source": [
    "def get_binary_vector(N, k):\n",
    "    convert_phases = lambda j: (-1)**j\n",
    "    bitstring_array = np.array(list(format(k, '0'+str(2**N)+'b')), dtype=int)\n",
    "    vfunc = np.vectorize(convert_phases)\n",
    "    return vfunc(bitstring_array)\n",
    "\n",
    "def get_number_of_ones(N):\n",
    "    return np.array([n.bit_count() for n in range(2**N)])\n",
    "\n",
    "def get_all_states_in_binary(N):\n",
    "    return np.array([np.array(list(format(n, '0'+str(N)+'b')), dtype=int) for n in range(2**N)])\n",
    "\n",
    "def update_other_phases(vector, all_states_in_binary, affected_qubits, j, phase):\n",
    "    #print('affected_qubits =', affected_qubits)\n",
    "    for i in range(j, len(vector)):\n",
    "        #print('all_states_in_binary[',i,'] =', all_states_in_binary[i])\n",
    "        #print('np.where(all_states_in_binary[',i,']==1)[0] =', np.where(all_states_in_binary[i]==1)[0])\n",
    "        if all([elem in np.where(all_states_in_binary[i] == 1)[0] for elem in affected_qubits]):\n",
    "            #print('entro a cambiar el vector')\n",
    "            vector[i] *= phase\n",
    "            #print(vector)"
   ]
  },
  {
   "cell_type": "code",
   "execution_count": 4,
   "id": "ef870341",
   "metadata": {},
   "outputs": [],
   "source": [
    "def U_i(N, ki, circuit):\n",
    "    \n",
    "    # create equal superposition\n",
    "    circuit.h(range(N))\n",
    "    \n",
    "    # get vector i given the value ki\n",
    "    vector_i = get_binary_vector(N, ki)\n",
    "    \n",
    "    # execute hsgs\n",
    "    circuit.compose(hsgs(N, vector_i), inplace=True)\n",
    "\n",
    "def U_w(N, kw, circuit):\n",
    "    \n",
    "    # get vector w given the value kw\n",
    "    vector_w = get_binary_vector(N, kw)\n",
    "    \n",
    "    # execute hsgs\n",
    "    circuit.compose(hsgs(N, vector_w), inplace=True)\n",
    "    \n",
    "    # apply Hadamards\n",
    "    circuit.h(range(N))\n",
    "    \n",
    "    # apply NOTs\n",
    "    circuit.x(range(N))"
   ]
  },
  {
   "cell_type": "code",
   "execution_count": 5,
   "id": "61054d51",
   "metadata": {},
   "outputs": [],
   "source": [
    "def perceptron_optimized(N, ki, kw, draw=False):\n",
    "    \n",
    "    # create circuit, N qubits + ancilla\n",
    "    circuit = QuantumCircuit(N + 1, 1)\n",
    "    \n",
    "    # apply U_i\n",
    "    U_i(N, ki, circuit)\n",
    "    \n",
    "    # apply U_w\n",
    "    U_w(N, kw, circuit)\n",
    "    \n",
    "    # apply C^N X\n",
    "    circuit.mcx(control_qubits=[i for i in range(N)], target_qubit=N)\n",
    "    \n",
    "    # measure the ancilla qubit\n",
    "    circuit.measure(N, 0)\n",
    "    \n",
    "    # draw circuit\n",
    "    if draw == True:\n",
    "        display(circuit.draw('mpl'))\n",
    "    \n",
    "    return circuit"
   ]
  },
  {
   "cell_type": "code",
   "execution_count": 6,
   "id": "f6377a0a",
   "metadata": {},
   "outputs": [],
   "source": [
    "def draw_image(N, k):\n",
    "        \n",
    "    ns = format(k, '0'+str(2**N)+'b')\n",
    "    \n",
    "    fig, ax = plt.subplots(figsize=(2, 2))\n",
    "        \n",
    "    ax.grid(which='both', axis='both', linestyle='-', color='black', linewidth=1)\n",
    "\n",
    "    cmap = colors.ListedColormap(['black', 'white']) # [0, 1]\n",
    "\n",
    "    ax.set_xticks(np.arange(0.5, N, 1));\n",
    "    ax.set_yticks(np.arange(0.5, N, 1));\n",
    "    plt.tick_params(axis='both', which='both', bottom=False,   \n",
    "                    left=False, labelbottom=False, labelleft=False)\n",
    "    \n",
    "    image_data = np.zeros((N, N))\n",
    "    j = 0\n",
    "    for (x,y), _ in np.ndenumerate(image_data):\n",
    "        image_data[x][y] = int(ns[j])\n",
    "        j += 1\n",
    "    \n",
    "    ax.imshow(image_data, cmap=cmap)\n",
    "    \n",
    "    plt.show()"
   ]
  },
  {
   "cell_type": "markdown",
   "id": "b1bb3013",
   "metadata": {},
   "source": [
    "### Training procedure"
   ]
  },
  {
   "cell_type": "code",
   "execution_count": 7,
   "id": "fa33620e",
   "metadata": {},
   "outputs": [],
   "source": [
    "#load the previously generated training set\n",
    "with open(\"training_set_3050.txt\", \"r\") as file:\n",
    "    training = eval(file.readline())"
   ]
  },
  {
   "cell_type": "code",
   "execution_count": 8,
   "id": "3482f18b",
   "metadata": {},
   "outputs": [],
   "source": [
    "simulator = Aer.get_backend('aer_simulator')\n",
    "shots = 10000"
   ]
  },
  {
   "cell_type": "code",
   "execution_count": 25,
   "id": "627e172a",
   "metadata": {},
   "outputs": [
    {
     "data": {
      "image/png": "[encoded data removed]",
      "text/plain": [
       "<Figure size 200x200 with 1 Axes>"
      ]
     },
     "metadata": {},
     "output_type": "display_data"
    }
   ],
   "source": [
    "N = 4\n",
    "\n",
    "\n",
    "w_0 = np.random.choice([-1, 1], size=2**N)\n",
    "draw_image(N=N, k=int(''.join(['1' if j==-1 else '0' for j in w_0]), 2))"
   ]
  },
  {
   "cell_type": "code",
   "execution_count": 26,
   "id": "dced2952",
   "metadata": {},
   "outputs": [
    {
     "name": "stdout",
     "output_type": "stream",
     "text": [
      "iteration = 3050, kw = 64909\n",
      "CPU times: total: 10min 40s\n",
      "Wall time: 10min 43s\n"
     ]
    }
   ],
   "source": [
    "%%time\n",
    "\n",
    "threshold = 0.5\n",
    "l_p = 0.5\n",
    "l_n = 0.5\n",
    "\n",
    "w_t = w_0.copy()\n",
    "\n",
    "kw_history = []\n",
    "\n",
    "iteration = 0\n",
    "\n",
    "for data in training:\n",
    "    \n",
    "    ki = data[0]\n",
    "    kw = int(''.join(['1' if j==-1 else '0' for j in w_t]), 2)\n",
    "    perceptron_circuit = perceptron_optimized(N, ki, kw)\n",
    "    \n",
    "    job = execute(perceptron_circuit, simulator, shots=shots)\n",
    "    counts = job.result().get_counts(perceptron_circuit)\n",
    "    if '1' in counts: probability_activated = counts['1']/shots\n",
    "    else: probability_activated = 0\n",
    "    \n",
    "    if probability_activated > threshold: # perceptron was activated (positive label found)\n",
    "        if data[1] == -1:                 # data point is labeled as negative\n",
    "            # move w farther apart from i\n",
    "            # flip a l_n fraction of signs, randomly select from components where i and w coincide\n",
    "            vector_i = get_binary_vector(N, ki)\n",
    "            coincidences = np.where(np.equal(vector_i, w_t))\n",
    "            indices = np.random.choice(coincidences[0], size=int(len(coincidences[0])*l_n), replace=False)\n",
    "            for index in indices:\n",
    "                w_t[index] *= -1  # flip sign\n",
    "    else:                                 # perceptron wasn't activated (negative label found)\n",
    "        if data[1] == 1:                  # data point is labeled as positive\n",
    "            # move w closer to i\n",
    "            # flip a l_p fraction of signs, randomly select from components where i and w differ\n",
    "            vector_i = get_binary_vector(N, ki)\n",
    "            differences = np.where(np.logical_not(np.equal(vector_i, w_t)))\n",
    "            indices = np.random.choice(differences[0], size=int(len(differences[0])*l_p), replace=False)\n",
    "            for index in indices:\n",
    "                w_t[index] *= -1  # flip sign\n",
    "    \n",
    "    kw_history.append(kw)\n",
    "    \n",
    "    iteration += 1\n",
    "    print(\"\\riteration = {}, kw = {}\".format(iteration, kw), end=\"\")  # looking for kw = 626\n",
    "    \n",
    "print()"
   ]
  },
  {
   "cell_type": "code",
   "execution_count": 43,
   "id": "545dd3b3",
   "metadata": {},
   "outputs": [
    {
     "data": {
      "image/png": "[encoded data removed]",
      "text/plain": [
       "<Figure size 200x200 with 1 Axes>"
      ]
     },
     "metadata": {},
     "output_type": "display_data"
    }
   ],
   "source": [
    "draw_image(N=N, k=kw_history[-1])"
   ]
  },
  {
   "cell_type": "code",
   "execution_count": 94,
   "id": "5938e64a",
   "metadata": {},
   "outputs": [
    {
     "data": {
      "image/png": "[encoded data removed]",
      "text/plain": [
       "<Figure size 200x200 with 1 Axes>"
      ]
     },
     "metadata": {},
     "output_type": "display_data"
    }
   ],
   "source": [
    "draw_image(N=N, k=kw_history[85])"
   ]
  },
  {
   "cell_type": "code",
   "execution_count": 49,
   "id": "0f8b73eb",
   "metadata": {},
   "outputs": [],
   "source": [
    "# save training history in order to be able to reuse it\n",
    "with open(\"training_history_for_cross_shape_pattern_one_trajectory.txt\", \"w\") as file:\n",
    "    file.write(str(kw_history))"
   ]
  },
  {
   "cell_type": "code",
   "execution_count": 48,
   "id": "3a05ef25",
   "metadata": {},
   "outputs": [],
   "source": [
    "#with open(\"training_history_for_cross_shape_pattern_one_trajectory.txt\", \"r\") as file:\n",
    "#    kw_history = eval(file.readline())"
   ]
  },
  {
   "cell_type": "markdown",
   "id": "e815add5",
   "metadata": {},
   "source": [
    "Calculate fidelity for the previous learning trajectory:\n",
    "\n",
    "$$f=\\left|\\langle\\psi_{w_t}\\big|\\psi_w\\rangle\\right|^2$$"
   ]
  },
  {
   "cell_type": "code",
   "execution_count": 65,
   "id": "7fe52244",
   "metadata": {},
   "outputs": [
    {
     "data": {
      "image/png": "[encoded data removed]",
      "text/plain": [
       "<Figure size 640x480 with 1 Axes>"
      ]
     },
     "metadata": {},
     "output_type": "display_data"
    }
   ],
   "source": [
    "# plot the sample learning trajectory (one, stored in kw_history)\n",
    "\n",
    "N = 4\n",
    "\n",
    "kw_t = 64909\n",
    "w_t_no_norm = np.array(list(format(kw_t, '0'+str(2**N)+'b')), dtype=int)\n",
    "w_t = w_t_no_norm/np.linalg.norm(w_t_no_norm)\n",
    "\n",
    "xs = range(len(training))\n",
    "\n",
    "ys = []\n",
    "\n",
    "# calculate fidelity for each element in history\n",
    "for kw in kw_history:\n",
    "    w_no_norm = np.array(list(format(kw, '0'+str(2**N)+'b')), dtype=int)\n",
    "    w = w_no_norm/np.linalg.norm(w_no_norm)\n",
    "    prod = np.vdot(w_t, w) # If first vector is complex the complex conjugate is taken before calculation\n",
    "    ys.append(abs(prod)**2)\n",
    "    \n",
    "fig = plt.figure()\n",
    "ax = fig.add_subplot(111)\n",
    "\n",
    "ax.plot(xs, ys)\n",
    "\n",
    "ax.set_title(\"A sample learning trajectory\")\n",
    "ax.set_xlabel('Training steps')\n",
    "ax.set_ylabel('$f=\\\\left|\\\\langle\\\\psi_{w_t}|\\\\psi_w\\\\rangle\\\\right|^2$')\n",
    "\n",
    "plt.show()"
   ]
  },
  {
   "cell_type": "code",
   "execution_count": 81,
   "id": "e9414cb9",
   "metadata": {},
   "outputs": [
    {
     "data": {
      "text/plain": [
       "array([0.32467532, 0.44545455, 0.58181818, 0.64935065, 0.72727273,\n",
       "       0.81818182, 0.90909091, 1.        ])"
      ]
     },
     "execution_count": 81,
     "metadata": {},
     "output_type": "execute_result"
    }
   ],
   "source": [
    "np.unique(ys)"
   ]
  },
  {
   "cell_type": "code",
   "execution_count": 93,
   "id": "39232853",
   "metadata": {},
   "outputs": [
    {
     "data": {
      "text/plain": [
       "(array([71, 72, 73, 74, 75, 76, 77, 78, 79, 80, 81, 82, 83, 84, 85, 86],\n",
       "       dtype=int64),)"
      ]
     },
     "execution_count": 93,
     "metadata": {},
     "output_type": "execute_result"
    }
   ],
   "source": [
    "np.where(np.isclose(ys, 0.64935065))"
   ]
  },
  {
   "cell_type": "code",
   "execution_count": 95,
   "id": "ce6e40b0",
   "metadata": {},
   "outputs": [
    {
     "data": {
      "image/png": "[encoded data removed]",
      "text/plain": [
       "<Figure size 200x200 with 1 Axes>"
      ]
     },
     "metadata": {},
     "output_type": "display_data"
    }
   ],
   "source": [
    "# selecting same w_0 as in paper\n",
    "\n",
    "N = 4\n",
    "\n",
    "\n",
    "w_0_given = [-1, -1, 1, -1, 1, 1, -1, -1, -1, 1, -1, -1, -1, -1, 1, -1]\n",
    "draw_image(N=N, k=int(''.join(['1' if j==-1 else '0' for j in w_0_given]), 2))"
   ]
  },
  {
   "cell_type": "code",
   "execution_count": 96,
   "id": "b8ba7f85",
   "metadata": {},
   "outputs": [
    {
     "name": "stdout",
     "output_type": "stream",
     "text": [
      "iteration = 3050, kw = 64909\n",
      "CPU times: total: 9min 30s\n",
      "Wall time: 9min 26s\n"
     ]
    }
   ],
   "source": [
    "%%time\n",
    "\n",
    "threshold = 0.5\n",
    "l_p = 0.5\n",
    "l_n = 0.5\n",
    "\n",
    "w_t = w_0_given.copy()\n",
    "\n",
    "kw_history = []\n",
    "\n",
    "iteration = 0\n",
    "\n",
    "for data in training:\n",
    "    \n",
    "    ki = data[0]\n",
    "    kw = int(''.join(['1' if j==-1 else '0' for j in w_t]), 2)\n",
    "    perceptron_circuit = perceptron_optimized(N, ki, kw)\n",
    "    \n",
    "    job = execute(perceptron_circuit, simulator, shots=shots)\n",
    "    counts = job.result().get_counts(perceptron_circuit)\n",
    "    if '1' in counts: probability_activated = counts['1']/shots\n",
    "    else: probability_activated = 0\n",
    "    \n",
    "    if probability_activated > threshold: # perceptron was activated (positive label found)\n",
    "        if data[1] == -1:                 # data point is labeled as negative\n",
    "            # move w farther apart from i\n",
    "            # flip a l_n fraction of signs, randomly select from components where i and w coincide\n",
    "            vector_i = get_binary_vector(N, ki)\n",
    "            coincidences = np.where(np.equal(vector_i, w_t))\n",
    "            indices = np.random.choice(coincidences[0], size=int(len(coincidences[0])*l_n), replace=False)\n",
    "            for index in indices:\n",
    "                w_t[index] *= -1  # flip sign\n",
    "    else:                                 # perceptron wasn't activated (negative label found)\n",
    "        if data[1] == 1:                  # data point is labeled as positive\n",
    "            # move w closer to i\n",
    "            # flip a l_p fraction of signs, randomly select from components where i and w differ\n",
    "            vector_i = get_binary_vector(N, ki)\n",
    "            differences = np.where(np.logical_not(np.equal(vector_i, w_t)))\n",
    "            indices = np.random.choice(differences[0], size=int(len(differences[0])*l_p), replace=False)\n",
    "            for index in indices:\n",
    "                w_t[index] *= -1  # flip sign\n",
    "    \n",
    "    kw_history.append(kw)\n",
    "    \n",
    "    iteration += 1\n",
    "    print(\"\\riteration = {}, kw = {}\".format(iteration, kw), end=\"\")  # looking for kw = 626\n",
    "    \n",
    "print()"
   ]
  },
  {
   "cell_type": "code",
   "execution_count": 97,
   "id": "6d788cef",
   "metadata": {},
   "outputs": [
    {
     "data": {
      "image/png": "[encoded data removed]",
      "text/plain": [
       "<Figure size 200x200 with 1 Axes>"
      ]
     },
     "metadata": {},
     "output_type": "display_data"
    }
   ],
   "source": [
    "draw_image(N=N, k=kw_history[-1])"
   ]
  },
  {
   "cell_type": "code",
   "execution_count": 98,
   "id": "28deb9fe",
   "metadata": {},
   "outputs": [
    {
     "data": {
      "image/png": "[encoded data removed]",
      "text/plain": [
       "<Figure size 200x200 with 1 Axes>"
      ]
     },
     "metadata": {},
     "output_type": "display_data"
    }
   ],
   "source": [
    "draw_image(N=N, k=kw_history[85])"
   ]
  },
  {
   "cell_type": "code",
   "execution_count": 99,
   "id": "bb0d73c4",
   "metadata": {},
   "outputs": [],
   "source": [
    "# save training history in order to be able to reuse it\n",
    "with open(\"training_history_for_cross_shape_pattern_one_trajectory_given_w0.txt\", \"w\") as file:\n",
    "    file.write(str(kw_history))"
   ]
  },
  {
   "cell_type": "code",
   "execution_count": 100,
   "id": "24145fc4",
   "metadata": {},
   "outputs": [],
   "source": [
    "#with open(\"training_history_for_cross_shape_pattern_one_trajectory_given_w0.txt\", \"r\") as file:\n",
    "#    kw_history = eval(file.readline())"
   ]
  },
  {
   "cell_type": "code",
   "execution_count": 101,
   "id": "7b899685",
   "metadata": {},
   "outputs": [
    {
     "data": {
      "image/png": "[encoded data removed]",
      "text/plain": [
       "<Figure size 640x480 with 1 Axes>"
      ]
     },
     "metadata": {},
     "output_type": "display_data"
    }
   ],
   "source": [
    "# plot the sample learning trajectory (one, stored in kw_history)\n",
    "\n",
    "N = 4\n",
    "\n",
    "kw_t = 64909\n",
    "w_t_no_norm = np.array(list(format(kw_t, '0'+str(2**N)+'b')), dtype=int)\n",
    "w_t = w_t_no_norm/np.linalg.norm(w_t_no_norm)\n",
    "\n",
    "xs = range(len(training))\n",
    "\n",
    "ys = []\n",
    "\n",
    "# calculate fidelity for each element in history\n",
    "for kw in kw_history:\n",
    "    w_no_norm = np.array(list(format(kw, '0'+str(2**N)+'b')), dtype=int)\n",
    "    w = w_no_norm/np.linalg.norm(w_no_norm)\n",
    "    prod = np.vdot(w_t, w) # If first vector is complex the complex conjugate is taken before calculation\n",
    "    ys.append(abs(prod)**2)\n",
    "    \n",
    "fig = plt.figure()\n",
    "ax = fig.add_subplot(111)\n",
    "\n",
    "ax.plot(xs, ys)\n",
    "\n",
    "ax.set_title(\"A sample learning trajectory\")\n",
    "ax.set_xlabel('Training steps')\n",
    "ax.set_ylabel('$f=\\\\left|\\\\langle\\\\psi_{w_t}|\\\\psi_w\\\\rangle\\\\right|^2$')\n",
    "\n",
    "plt.show()"
   ]
  },
  {
   "cell_type": "code",
   "execution_count": null,
   "id": "c5b54c59",
   "metadata": {},
   "outputs": [],
   "source": []
  }
 ],
 "metadata": {
  "kernelspec": {
   "display_name": "Python 3 (ipykernel)",
   "language": "python",
   "name": "python3"
  },
  "language_info": {
   "codemirror_mode": {
    "name": "ipython",
    "version": 3
   },
   "file_extension": ".py",
   "mimetype": "text/x-python",
   "name": "python",
   "nbconvert_exporter": "python",
   "pygments_lexer": "ipython3",
   "version": "3.10.8"
  }
 },
 "nbformat": 4,
 "nbformat_minor": 5
}
