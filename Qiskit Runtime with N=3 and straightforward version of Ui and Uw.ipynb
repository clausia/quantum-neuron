{
 "cells": [
  {
   "cell_type": "code",
   "execution_count": 1,
   "id": "f2ece292-8380-4cc2-8b81-07ddc7238812",
   "metadata": {},
   "outputs": [],
   "source": [
    "from qiskit import QuantumCircuit\n",
    "from qiskit.quantum_info import partial_trace, Statevector\n",
    "from qiskit.circuit.library import ZGate, XGate\n",
    "from qiskit import execute, Aer\n",
    "from qiskit.compiler import transpile\n",
    "from qiskit.tools.visualization import plot_histogram\n",
    "from matplotlib import pyplot as plt\n",
    "from matplotlib import colors\n",
    "import numpy as np\n",
    "import gc\n",
    "import csv\n",
    "from pylab import *"
   ]
  },
  {
   "cell_type": "code",
   "execution_count": 2,
   "id": "99e4c237-d3a4-48ce-8cd5-0876371a5cb2",
   "metadata": {},
   "outputs": [],
   "source": [
    "def createSFblock(N, j):\n",
    "    \n",
    "    circuit = QuantumCircuit(N)\n",
    "    \n",
    "    state_decimal = format(j, '0'+str(N)+'b')[::-1] # inverse order due to Qiskit order: |q1q0>\n",
    "    \n",
    "    for qubit in range(N):\n",
    "        if state_decimal[qubit] == '0':\n",
    "            circuit.x(qubit)\n",
    "    \n",
    "    multiConrolledZ = ZGate().control(num_ctrl_qubits=N-1)\n",
    "    circuit.append(multiConrolledZ, range(N))\n",
    "    \n",
    "    for qubit in range(N):\n",
    "        if state_decimal[qubit] == '0':\n",
    "            circuit.x(qubit)\n",
    "    \n",
    "    return circuit\n"
   ]
  },
  {
   "cell_type": "code",
   "execution_count": 3,
   "id": "defc78eb-98fa-49a7-a83e-7e3e783bbe66",
   "metadata": {},
   "outputs": [],
   "source": [
    "def U_i(N, ki, circuit):\n",
    "    \n",
    "    # create equal superposition\n",
    "    circuit.h(range(N))\n",
    "    \n",
    "    # apply SF blocks according to ki information\n",
    "    vector_i = format(ki, '0'+str(2**N)+'b')\n",
    "    for ij in range(len(vector_i)):\n",
    "        if vector_i[ij] == '1': # n_j = 1, equivalent of having -1 in vector i\n",
    "            circuit.compose(createSFblock(N, ij), inplace=True)  # the state i is the one that must have the phase of -1\n",
    "\n",
    "def U_w(N, kw, circuit):\n",
    "    \n",
    "    # apply SF blocks according to kw information\n",
    "    vector_w = format(kw, '0'+str(2**N)+'b')\n",
    "    for wj in range(len(vector_w)):\n",
    "        if vector_w[wj] == '1': # n_j = 1, equivalent of having -1 in vector w\n",
    "            circuit.compose(createSFblock(N, wj), inplace=True)  # the state w is the one that must have the phase of -1\n",
    "    \n",
    "    # apply Hadamards\n",
    "    circuit.h(range(N))\n",
    "    \n",
    "    # apply NOTs\n",
    "    circuit.x(range(N))"
   ]
  },
  {
   "cell_type": "code",
   "execution_count": 4,
   "id": "6101b742-6f6a-4bb8-a72e-bc9115e53bb9",
   "metadata": {},
   "outputs": [],
   "source": [
    "def perceptron_brute_force(N, ki, kw, draw=False):\n",
    "    \n",
    "    # create circuit, N qubits + ancilla\n",
    "    circuit = QuantumCircuit(N + 1, 1)\n",
    "    \n",
    "    # apply U_i\n",
    "    U_i(N, ki, circuit)\n",
    "    \n",
    "    # apply U_w\n",
    "    U_w(N, kw, circuit)\n",
    "    \n",
    "    # apply C^N X\n",
    "    circuit.mcx(control_qubits=[i for i in range(N)], target_qubit=N)\n",
    "    \n",
    "    # measure the ancilla qubit\n",
    "    circuit.measure(N, 0)\n",
    "    \n",
    "    # draw circuit\n",
    "    if draw == True:\n",
    "        display(circuit.draw('mpl'))\n",
    "    \n",
    "    return circuit"
   ]
  },
  {
   "cell_type": "code",
   "execution_count": 6,
   "id": "1f981749-24d9-40bd-815f-11d0116af773",
   "metadata": {},
   "outputs": [
    {
     "data": {
      "image/png": "[encoded data removed]",
      "text/plain": [
       "<Figure size 387.597x325.08 with 1 Axes>"
      ]
     },
     "metadata": {},
     "output_type": "display_data"
    },
    {
     "data": {
      "text/plain": [
       "<qiskit.circuit.quantumcircuit.QuantumCircuit at 0x7f8c3715bdf0>"
      ]
     },
     "execution_count": 6,
     "metadata": {},
     "output_type": "execute_result"
    }
   ],
   "source": [
    "perceptron_brute_force(N=3, ki=0, kw=0, draw=True)"
   ]
  },
  {
   "cell_type": "code",
   "execution_count": 7,
   "id": "fea741b8-a70c-4028-ab85-24d60a9b1643",
   "metadata": {},
   "outputs": [
    {
     "name": "stderr",
     "output_type": "stream",
     "text": [
      "<frozen importlib._bootstrap>:219: RuntimeWarning: scipy._lib.messagestream.MessageStream size changed, may indicate binary incompatibility. Expected 56 from C header, got 64 from PyObject\n"
     ]
    }
   ],
   "source": [
    "from qiskit_ibm_runtime import QiskitRuntimeService, Session, Options, Sampler, Estimator"
   ]
  },
  {
   "cell_type": "code",
   "execution_count": null,
   "id": "542ebdcc",
   "metadata": {},
   "outputs": [],
   "source": [
    "#QiskitRuntimeService.save_account(channel='ibm_quantum', token='my_token', overwrite=True)"
   ]
  },
  {
   "cell_type": "code",
   "execution_count": 8,
   "id": "05b4ddaa-cdbb-45c8-92b2-2cb3252d7aa1",
   "metadata": {},
   "outputs": [],
   "source": [
    "service = QiskitRuntimeService(channel='ibm_quantum')"
   ]
  },
  {
   "cell_type": "code",
   "execution_count": 9,
   "id": "2a27e388-ad25-4230-bcd1-110f3bc32e51",
   "metadata": {},
   "outputs": [
    {
     "data": {
      "text/plain": [
       "[<IBMBackend('ibmq_guadalupe')>,\n",
       " <IBMBackend('ibmq_qasm_simulator')>,\n",
       " <IBMBackend('ibm_nairobi')>,\n",
       " <IBMBackend('ibm_oslo')>,\n",
       " <IBMBackend('ibmq_lima')>,\n",
       " <IBMBackend('ibmq_belem')>,\n",
       " <IBMBackend('ibmq_quito')>,\n",
       " <IBMBackend('simulator_statevector')>,\n",
       " <IBMBackend('simulator_mps')>,\n",
       " <IBMBackend('simulator_extended_stabilizer')>,\n",
       " <IBMBackend('simulator_stabilizer')>,\n",
       " <IBMBackend('ibmq_manila')>]"
      ]
     },
     "execution_count": 9,
     "metadata": {},
     "output_type": "execute_result"
    }
   ],
   "source": [
    "service.backends()"
   ]
  },
  {
   "cell_type": "code",
   "execution_count": 10,
   "id": "adae66d4-4e57-4536-8a88-e94b6cfbfd5f",
   "metadata": {},
   "outputs": [
    {
     "name": "stdout",
     "output_type": "stream",
     "text": [
      "<IBMBackend('ibmq_qasm_simulator')>\n"
     ]
    }
   ],
   "source": [
    "backend = service.backends(simulator=True)[0]\n",
    "print(backend)"
   ]
  },
  {
   "cell_type": "code",
   "execution_count": 11,
   "id": "a76c8335-9358-4e93-a980-8160c747b293",
   "metadata": {},
   "outputs": [
    {
     "data": {
      "text/plain": [
       "<IBMBackend('ibmq_belem')>"
      ]
     },
     "execution_count": 11,
     "metadata": {},
     "output_type": "execute_result"
    }
   ],
   "source": [
    "backend_belem = service.backends(name='ibmq_belem')[0]\n",
    "backend_belem"
   ]
  },
  {
   "cell_type": "code",
   "execution_count": 12,
   "id": "25051af1-1e36-4f06-8e56-3ee2daad6e9d",
   "metadata": {},
   "outputs": [
    {
     "name": "stderr",
     "output_type": "stream",
     "text": [
      "/opt/conda/lib/python3.8/site-packages/qiskit_aer/noise/device/models.py:145: UserWarning: When `target` is supplied, `standard_gates` and `warnings` are ignored, and they are always set to true.\n",
      "  warn(\"When `target` is supplied, `standard_gates` and `warnings` are ignored,\"\n"
     ]
    }
   ],
   "source": [
    "from qiskit.providers.fake_provider import FakeBelemV2\n",
    "from qiskit_aer.noise import NoiseModel\n",
    "\n",
    "# Import FakeBackend\n",
    "fake_backend = FakeBelemV2()\n",
    "noise_model = NoiseModel.from_backend(fake_backend)\n",
    "\n",
    "# Set options to include noise_model\n",
    "options = Options(simulator={\n",
    "    \"noise_model\": noise_model\n",
    "}, resilience_level=0)"
   ]
  },
  {
   "cell_type": "code",
   "execution_count": null,
   "id": "6329588b-1323-4a6d-8fb9-d26f771df115",
   "metadata": {},
   "outputs": [],
   "source": [
    "with Session(service=service, backend=backend):\n",
    "    sampler = Sampler(options=options)\n",
    "    job = sampler.run(circuits=[qc1,qc2])\n",
    "    result = job.result()\n",
    "    print(job.job_id())"
   ]
  },
  {
   "cell_type": "code",
   "execution_count": 13,
   "id": "2fafa55d-b481-4cef-8d64-3d9c4e1bb26c",
   "metadata": {},
   "outputs": [
    {
     "name": "stdout",
     "output_type": "stream",
     "text": [
      "working with kw = 255/256CPU times: user 2h 1min 26s, sys: 47.9 s, total: 2h 2min 14s\n",
      "Wall time: 4h 58min 10s\n"
     ]
    }
   ],
   "source": [
    "%%time\n",
    "\n",
    "# Calculate for every value for ki and kw\n",
    "\n",
    "N = 3\n",
    "\n",
    "jobs_executed = {}\n",
    "\n",
    "for kw in range(2**(2**N)):\n",
    "#for kw in range(184,2**(2**N)):\n",
    "    \n",
    "    print(\"\\rworking with kw = {}/{}\".format(kw, 2**(2**N)), end=\"\")\n",
    "    \n",
    "    circuits_sim = []\n",
    "    \n",
    "    for ki in range(2**(2**N)):\n",
    "        perceptron_circuit = perceptron_brute_force(N, ki, kw)\n",
    "        circuits_sim.append(transpile(perceptron_circuit, backend_belem))\n",
    "    \n",
    "    with Session(service=service, backend=backend):\n",
    "        sampler = Sampler(options=options)\n",
    "        job = sampler.run(circuits=circuits_sim)\n",
    "        result = job.result()\n",
    "        \n",
    "    jobs_executed[kw] = job.job_id()\n",
    "    \n",
    "    with open(\"res_simple/results_fake_belem_straightforward_Ui_Uw_N3_kw_{}.txt\".format(kw), \"w\") as file:\n",
    "        file.write(str(result.quasi_dists))\n",
    "    \n",
    "    del circuits_sim\n",
    "    del sampler\n",
    "    del job\n",
    "    del result\n",
    "    gc.collect()\n",
    "    \n",
    "\n",
    "with open(\"res_simple/results_fake_belem_straightforward_Ui_Uw_N3_jobs.txt\", \"w\") as file:\n",
    "    file.write(str(jobs_executed))"
   ]
  },
  {
   "cell_type": "code",
   "execution_count": 2,
   "id": "2e4cee05-bcd9-4f6e-ab56-9479c3e2be1d",
   "metadata": {},
   "outputs": [
    {
     "name": "stdout",
     "output_type": "stream",
     "text": [
      "reading for kw = 255/256CPU times: total: 17.4 s\n",
      "Wall time: 17.5 s\n"
     ]
    }
   ],
   "source": [
    "%%time\n",
    "# load results from generated files and save them in matrix form in a new file\n",
    "\n",
    "N = 3\n",
    "\n",
    "with open(\"res_simple/results_fake_belem_straightforward_Ui_Uw_N3_all.txt\", \"w\", newline=\"\") as f:\n",
    "    \n",
    "    writer = csv.writer(f, delimiter=' ')\n",
    "    \n",
    "    for kw in range(2**(2**N)):\n",
    "\n",
    "        print(\"\\rreading for kw = {}/{}\".format(kw, 2**(2**N)), end=\"\")\n",
    "\n",
    "        with open(\"res_simple/results_fake_belem_straightforward_Ui_Uw_N3_kw_{}.txt\".format(kw), \"r\") as file:\n",
    "            results_for_kw = eval(file.readline())\n",
    "\n",
    "        results_for_state1 = []\n",
    "        for ki in range(2**(2**N)):\n",
    "            results_for_state1.append(results_for_kw[ki][1])\n",
    "        \n",
    "        writer.writerow(results_for_state1)\n",
    "\n",
    "        del results_for_kw\n",
    "        del results_for_state1\n",
    "        gc.collect()\n",
    "    "
   ]
  },
  {
   "cell_type": "code",
   "execution_count": 6,
   "id": "c842270e-f38f-493b-9380-f635dd9fb8bc",
   "metadata": {},
   "outputs": [
    {
     "name": "stdout",
     "output_type": "stream",
     "text": [
      "calculating for kw = 255/256\n",
      "CPU times: total: 1.97 s\n",
      "Wall time: 2.33 s\n"
     ]
    },
    {
     "data": {
      "text/plain": [
       "0.1382365112304688"
      ]
     },
     "execution_count": 6,
     "metadata": {},
     "output_type": "execute_result"
    }
   ],
   "source": [
    "%%time\n",
    "\n",
    "# calculate average discrepancy\n",
    "\n",
    "N = 3\n",
    "\n",
    "D = 0\n",
    "\n",
    "for kw in range(2**(2**N)):\n",
    "    \n",
    "    print(\"\\rcalculating for kw = {}/{}\".format(kw, 2**(2**N)), end=\"\")\n",
    "\n",
    "    with open(\"res_simple/results_fake_belem_straightforward_Ui_Uw_N3_kw_{}.txt\".format(kw), \"r\") as file:\n",
    "        results_for_kw_simple = eval(file.readline())\n",
    "    \n",
    "    results_for_state1_simple = []\n",
    "    for ki in range(2**(2**N)):\n",
    "        results_for_state1_simple.append(results_for_kw_simple[ki][1])\n",
    "    \n",
    "    with open(\"res_exact/results_fake_belem_exact_Ui_Uw_N3_kw_{}.txt\".format(kw), \"r\") as file:\n",
    "        results_for_kw_exact = eval(file.readline())\n",
    "    \n",
    "    results_for_state1_exact = []\n",
    "    for ki in range(2**(2**N)):\n",
    "        results_for_state1_exact.append(results_for_kw_exact[ki][1])\n",
    "    \n",
    "    D += np.sum(np.absolute(np.subtract(results_for_state1_simple, results_for_state1_exact))) / (2**(2**(N+1)))\n",
    "    \n",
    "print()\n",
    "\n",
    "D"
   ]
  },
  {
   "cell_type": "code",
   "execution_count": null,
   "id": "2087aa30",
   "metadata": {},
   "outputs": [],
   "source": []
  }
 ],
 "metadata": {
  "kernelspec": {
   "display_name": "Python 3 (ipykernel)",
   "language": "python",
   "name": "python3"
  },
  "language_info": {
   "codemirror_mode": {
    "name": "ipython",
    "version": 3
   },
   "file_extension": ".py",
   "mimetype": "text/x-python",
   "name": "python",
   "nbconvert_exporter": "python",
   "pygments_lexer": "ipython3",
   "version": "3.10.8"
  },
  "widgets": {
   "application/vnd.jupyter.widget-state+json": {
    "state": {},
    "version_major": 2,
    "version_minor": 0
   }
  }
 },
 "nbformat": 4,
 "nbformat_minor": 5
}
