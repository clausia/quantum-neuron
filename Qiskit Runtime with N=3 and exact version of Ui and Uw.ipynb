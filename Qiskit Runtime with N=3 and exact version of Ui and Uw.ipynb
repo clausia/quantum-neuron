{
 "cells": [
  {
   "cell_type": "code",
   "execution_count": 11,
   "id": "4a51e943",
   "metadata": {},
   "outputs": [],
   "source": [
    "from qiskit import QuantumCircuit\n",
    "from qiskit.quantum_info import partial_trace, Statevector\n",
    "from qiskit.circuit.library import ZGate, XGate\n",
    "from qiskit import execute, Aer\n",
    "from qiskit.compiler import transpile\n",
    "from qiskit.tools.visualization import plot_histogram\n",
    "from matplotlib import pyplot as plt\n",
    "from matplotlib import colors\n",
    "import numpy as np\n",
    "import gc\n",
    "import csv\n",
    "from pylab import *"
   ]
  },
  {
   "cell_type": "code",
   "execution_count": 3,
   "id": "cbb1f870",
   "metadata": {},
   "outputs": [],
   "source": [
    "def createSFblock(N, j):\n",
    "    \n",
    "    circuit = QuantumCircuit(N)\n",
    "    \n",
    "    state_decimal = format(j, '0'+str(N)+'b')[::-1] # inverse order due to Qiskit order: |q1q0>\n",
    "    \n",
    "    for qubit in range(N):\n",
    "        if state_decimal[qubit] == '0':\n",
    "            circuit.x(qubit)\n",
    "    \n",
    "    multiConrolledZ = ZGate().control(num_ctrl_qubits=N-1)\n",
    "    circuit.append(multiConrolledZ, range(N))\n",
    "    \n",
    "    for qubit in range(N):\n",
    "        if state_decimal[qubit] == '0':\n",
    "            circuit.x(qubit)\n",
    "    \n",
    "    return circuit\n"
   ]
  },
  {
   "cell_type": "code",
   "execution_count": 4,
   "id": "ede79730",
   "metadata": {},
   "outputs": [],
   "source": [
    "def U_i(N, ki, circuit):\n",
    "    \n",
    "    # create equal superposition\n",
    "    circuit.h(range(N))\n",
    "    \n",
    "    # apply SF blocks according to ki information\n",
    "    vector_i = format(ki, '0'+str(2**N)+'b')\n",
    "    for ij in range(len(vector_i)):\n",
    "        if vector_i[ij] == '1': # n_j = 1, equivalent of having -1 in vector i\n",
    "            circuit.compose(createSFblock(N, ij), inplace=True)  # the state i is the one that must have the phase of -1\n",
    "\n",
    "def U_w(N, kw, circuit):\n",
    "    \n",
    "    # apply SF blocks according to kw information\n",
    "    vector_w = format(kw, '0'+str(2**N)+'b')\n",
    "    for wj in range(len(vector_w)):\n",
    "        if vector_w[wj] == '1': # n_j = 1, equivalent of having -1 in vector w\n",
    "            circuit.compose(createSFblock(N, wj), inplace=True)  # the state w is the one that must have the phase of -1\n",
    "    \n",
    "    # apply Hadamards\n",
    "    circuit.h(range(N))\n",
    "    \n",
    "    # apply NOTs\n",
    "    circuit.x(range(N))"
   ]
  },
  {
   "cell_type": "code",
   "execution_count": 5,
   "id": "8ea3e2ad",
   "metadata": {},
   "outputs": [],
   "source": [
    "def perceptron_brute_force(N, ki, kw, draw=False):\n",
    "    \n",
    "    # create circuit, N qubits + ancilla\n",
    "    circuit = QuantumCircuit(N + 1, 1)\n",
    "    \n",
    "    # apply U_i\n",
    "    U_i(N, ki, circuit)\n",
    "    \n",
    "    # apply U_w\n",
    "    U_w(N, kw, circuit)\n",
    "    \n",
    "    # apply C^N X\n",
    "    circuit.mcx(control_qubits=[i for i in range(N)], target_qubit=N)\n",
    "    \n",
    "    # measure the ancilla qubit\n",
    "    circuit.measure(N, 0)\n",
    "    \n",
    "    # draw circuit\n",
    "    if draw == True:\n",
    "        display(circuit.draw('mpl'))\n",
    "    \n",
    "    return circuit"
   ]
  },
  {
   "cell_type": "code",
   "execution_count": 9,
   "id": "27a588e7",
   "metadata": {},
   "outputs": [
    {
     "name": "stdout",
     "output_type": "stream",
     "text": [
      "working with kw = 255/256CPU times: total: 1h 34min 58s\n",
      "Wall time: 1h 35min 35s\n"
     ]
    }
   ],
   "source": [
    "%%time\n",
    "\n",
    "# Calculate for every value for ki and kw\n",
    "\n",
    "N = 3\n",
    "\n",
    "for kw in range(2**(2**N)):\n",
    "    \n",
    "    print(\"\\rworking with kw = {}/{}\".format(kw, 2**(2**N)), end=\"\")\n",
    "    \n",
    "    circuits_res = []\n",
    "    \n",
    "    for ki in range(2**(2**N)):\n",
    "        perceptron_circuit = perceptron_brute_force(N, ki, kw)\n",
    "        perceptron_circuit.remove_final_measurements()\n",
    "        full_state = Statevector(perceptron_circuit)\n",
    "        partial_density_matrix_ancilla = partial_trace(full_state, range(N))\n",
    "        circuits_res.append(\n",
    "            {0: abs(partial_density_matrix_ancilla.data[0][0]),\n",
    "             1: abs(partial_density_matrix_ancilla.data[1][1])})\n",
    "    \n",
    "    with open(\"res_exact/results_fake_belem_exact_Ui_Uw_N3_kw_{}.txt\".format(kw), \"w\") as file:\n",
    "        file.write(str(circuits_res))\n",
    "    \n",
    "    del circuits_res\n",
    "    gc.collect()\n",
    "    "
   ]
  },
  {
   "cell_type": "code",
   "execution_count": 12,
   "id": "ca6903c7",
   "metadata": {},
   "outputs": [
    {
     "name": "stdout",
     "output_type": "stream",
     "text": [
      "reading for kw = 255/256CPU times: total: 20 s\n",
      "Wall time: 23.8 s\n"
     ]
    }
   ],
   "source": [
    "%%time\n",
    "# load results from generated files and save them in matrix form in a new file\n",
    "\n",
    "N = 3\n",
    "\n",
    "with open(\"res_exact/results_fake_belem_exact_Ui_Uw_N3_all.txt\", \"w\", newline=\"\") as f:\n",
    "    \n",
    "    writer = csv.writer(f, delimiter=' ')\n",
    "    \n",
    "    for kw in range(2**(2**N)):\n",
    "\n",
    "        print(\"\\rreading for kw = {}/{}\".format(kw, 2**(2**N)), end=\"\")\n",
    "\n",
    "        with open(\"res_exact/results_fake_belem_exact_Ui_Uw_N3_kw_{}.txt\".format(kw), \"r\") as file:\n",
    "            results_for_kw = eval(file.readline())\n",
    "\n",
    "        results_for_state1 = []\n",
    "        for ki in range(2**(2**N)):\n",
    "            results_for_state1.append(results_for_kw[ki][1])\n",
    "        \n",
    "        writer.writerow(results_for_state1)\n",
    "\n",
    "        del results_for_kw\n",
    "        del results_for_state1\n",
    "        gc.collect()\n",
    "    "
   ]
  },
  {
   "cell_type": "code",
   "execution_count": null,
   "id": "c571379e",
   "metadata": {},
   "outputs": [],
   "source": []
  }
 ],
 "metadata": {
  "kernelspec": {
   "display_name": "Python 3 (ipykernel)",
   "language": "python",
   "name": "python3"
  },
  "language_info": {
   "codemirror_mode": {
    "name": "ipython",
    "version": 3
   },
   "file_extension": ".py",
   "mimetype": "text/x-python",
   "name": "python",
   "nbconvert_exporter": "python",
   "pygments_lexer": "ipython3",
   "version": "3.10.8"
  }
 },
 "nbformat": 4,
 "nbformat_minor": 5
}
